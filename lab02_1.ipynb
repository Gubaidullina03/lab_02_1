{
  "nbformat": 4,
  "nbformat_minor": 0,
  "metadata": {
    "colab": {
      "provenance": [],
      "include_colab_link": true
    },
    "kernelspec": {
      "name": "python3",
      "display_name": "Python 3"
    },
    "language_info": {
      "name": "python"
    }
  },
  "cells": [
    {
      "cell_type": "markdown",
      "metadata": {
        "id": "view-in-github",
        "colab_type": "text"
      },
      "source": [
        "<a href=\"https://colab.research.google.com/github/Gubaidullina03/lab_02_1/blob/main/lab02_1.ipynb\" target=\"_parent\"><img src=\"https://colab.research.google.com/assets/colab-badge.svg\" alt=\"Open In Colab\"/></a>"
      ]
    },
    {
      "cell_type": "code",
      "execution_count": null,
      "metadata": {
        "colab": {
          "base_uri": "https://localhost:8080/"
        },
        "id": "LyHzv5M-9Vvi",
        "outputId": "d5ba7ac9-afa5-4b25-a3ed-6c03b86d8fb7"
      },
      "outputs": [
        {
          "output_type": "stream",
          "name": "stdout",
          "text": [
            "Ответ: 0.33\n"
          ]
        }
      ],
      "source": [
        "# Задание task_02_01_01.\n",
        "#\n",
        "# Выполнила: Губайдуллина А.И.\n",
        "# Группа: АБП-231\n",
        "\n",
        "def sgn(x):\n",
        "    \"\"\"Вернуть результат сигнум-функции.\"\"\"\n",
        "    if x > 0:\n",
        "        return 1\n",
        "    elif x < 0:\n",
        "        return -1\n",
        "    else:\n",
        "        return 0\n",
        "\n",
        "# Данные из примера вывода\n",
        "x = -9\n",
        "y = 0\n",
        "\n",
        "# Вычисление с использованием модуля для корня (если предполагается)\n",
        "z = (sgn(x) + y**2) / (sgn(y) - abs(x)**0.5)\n",
        "\n",
        "print(\"Ответ:\", round(z, 2))"
      ]
    },
    {
      "cell_type": "code",
      "source": [
        "# Задание task_02_01_02.\n",
        "#\n",
        "# Выполнила: Губайдуллина А.И.\n",
        "# Группа: АБП-231\n",
        "\n",
        "def avg(data):\n",
        "    \"\"\"Вернуть среднее значение 'data'.\n",
        "\n",
        "    Параметры:\n",
        "        data (list): список числовых значений.\n",
        "\n",
        "    Результат:\n",
        "        float: среднее арифметическое значение.\n",
        "    \"\"\"\n",
        "    return sum(data) / len(data)\n",
        "\n",
        "\n",
        "def cleared_data(data):\n",
        "    \"\"\"Вернуть список без значений None.\n",
        "\n",
        "    Параметры:\n",
        "        data (list): исходный список с возможными значениями None.\n",
        "\n",
        "    Результат:\n",
        "        list: список без значений None.\n",
        "    \"\"\"\n",
        "    return [x for x in data if x is not None]\n",
        "\n",
        "\n",
        "n = int(input(\"Кол-во измерений: \"))\n",
        "\n",
        "data = []\n",
        "for i in range(n):\n",
        "    value = input(f\"Измерение {i+1}-е: \")\n",
        "    if value == '-':\n",
        "        data.append(None)\n",
        "    else:\n",
        "        data.append(int(value))\n",
        "\n",
        "# Получить очищенный список и среднее значение\n",
        "cleaned = cleared_data(data)\n",
        "average = avg(cleaned)\n",
        "\n",
        "print(f\"Средняя температура: {average:.2f}\")"
      ],
      "metadata": {
        "colab": {
          "base_uri": "https://localhost:8080/"
        },
        "id": "W64jMhGs-pbI",
        "outputId": "b360be72-f0d1-44d2-f07e-80ad4bd9c257"
      },
      "execution_count": null,
      "outputs": [
        {
          "output_type": "stream",
          "name": "stdout",
          "text": [
            "Кол-во измерений: 3\n",
            "Измерение 1-е: 10\n",
            "Измерение 2-е: -\n",
            "Измерение 3-е: 20\n",
            "Средняя температура: 15.00\n"
          ]
        }
      ]
    },
    {
      "cell_type": "code",
      "source": [
        "# Задание task_02_01_03.\n",
        "#\n",
        "# Выполнила: Губайдуллина А.И.\n",
        "# Группа: АБП-231\n",
        "\n",
        "def is_lucky(num):\n",
        "    \"\"\"Является ли 'num' номером счастливого билета?\n",
        "\n",
        "    Параметры:\n",
        "        num (int): номер билета.\n",
        "\n",
        "    Результат:\n",
        "        bool: True - да, False - нет.\n",
        "    \"\"\"\n",
        "    even_count = 0  # счетчик четных цифр\n",
        "    odd_count = 0   # счетчик нечетных цифр\n",
        "\n",
        "    # Перебираем все цифры числа\n",
        "    for digit in str(num):\n",
        "        digit_int = int(digit)\n",
        "        if digit_int % 2 == 0:\n",
        "            even_count += 1\n",
        "        else:\n",
        "            odd_count += 1\n",
        "\n",
        "    return even_count == odd_count\n",
        "\n",
        "\n",
        "def lucky_numbers(a, b):\n",
        "    \"\"\"Вернуть список счастливых номеров от 'a' до 'b'.\n",
        "\n",
        "    Параметры:\n",
        "        a (int): начальный номер.\n",
        "        b (int): конечный номер.\n",
        "\n",
        "    Результат:\n",
        "        list: список счастливых номеров.\n",
        "    \"\"\"\n",
        "    result = []\n",
        "    for num in range(a, b + 1):\n",
        "        if is_lucky(num):\n",
        "            result.append(num)\n",
        "    return result\n",
        "\n",
        "\n",
        "a = int(input(\"Первый номер билета: \"))\n",
        "b = int(input(\"Последний номер билета: \"))\n",
        "\n",
        "# Вывод должен быть осуществлен в строку с одним пробелом-разделителем\n",
        "lucky_nums = lucky_numbers(a, b)\n",
        "print(\" \".join(map(str, lucky_nums)))"
      ],
      "metadata": {
        "colab": {
          "base_uri": "https://localhost:8080/"
        },
        "id": "NeTYAEC__X2O",
        "outputId": "5ec89fd0-9d3f-4636-98ed-e5f9dd7eb085"
      },
      "execution_count": null,
      "outputs": [
        {
          "output_type": "stream",
          "name": "stdout",
          "text": [
            "Первый номер билета: 10\n",
            "Последний номер билета: 25\n",
            "10 12 14 16 18 21 23 25\n"
          ]
        }
      ]
    },
    {
      "cell_type": "code",
      "source": [
        "# Задание task_02_01_04.\n",
        "#\n",
        "# Выполнила: Губайдуллина А.И.\n",
        "# Группа: АБП-231\n",
        "\n",
        "def is_leap(year):\n",
        "    \"\"\"Является ли 'year' високосным годом?\n",
        "\n",
        "    Параметры:\n",
        "        year (int): год.\n",
        "\n",
        "    Результат:\n",
        "        bool: True - да, False - нет.\n",
        "    \"\"\"\n",
        "    return (year % 4 == 0 and year % 100 != 0) or (year % 400 == 0)\n",
        "\n",
        "\n",
        "def days(month, year):\n",
        "    \"\"\"Вернуть количество дней в месяце 'month' года 'year'.\n",
        "\n",
        "    Параметры:\n",
        "        month (int): месяц (1-12).\n",
        "        year (int): год.\n",
        "\n",
        "    Результат:\n",
        "        int: количество дней в месяце.\n",
        "    \"\"\"\n",
        "    if month in [1, 3, 5, 7, 8, 10, 12]:\n",
        "        return 31\n",
        "    elif month in [4, 6, 9, 11]:\n",
        "        return 30\n",
        "    elif month == 2:\n",
        "        return 29 if is_leap(year) else 28\n",
        "    else:\n",
        "        return 0\n",
        "\n",
        "\n",
        "def previous_date(day, month, year):\n",
        "    \"\"\"Вернуть день, месяц, год предыдущего дня.\n",
        "\n",
        "    Параметры:\n",
        "        day (int): день.\n",
        "        month (int): месяц.\n",
        "        year (int): год.\n",
        "\n",
        "    Результат:\n",
        "        tuple: (day, month, year) предыдущего дня.\n",
        "    \"\"\"\n",
        "    if day > 1:\n",
        "        return day - 1, month, year\n",
        "    else:\n",
        "        if month > 1:\n",
        "            prev_month = month - 1\n",
        "            prev_days = days(prev_month, year)\n",
        "            return prev_days, prev_month, year\n",
        "        else:\n",
        "            # Переход к предыдущему году\n",
        "            return 31, 12, year - 1\n",
        "\n",
        "\n",
        "def next_date(day, month, year):\n",
        "    \"\"\"Вернуть день, месяц, год следующего дня.\n",
        "\n",
        "    Параметры:\n",
        "        day (int): день.\n",
        "        month (int): месяц.\n",
        "        year (int): год.\n",
        "\n",
        "    Результат:\n",
        "        tuple: (day, month, year) следующего дня.\n",
        "    \"\"\"\n",
        "    current_days = days(month, year)\n",
        "\n",
        "    if day < current_days:\n",
        "        return day + 1, month, year\n",
        "    else:\n",
        "        if month < 12:\n",
        "            return 1, month + 1, year\n",
        "        else:\n",
        "            # Переход к следующему году\n",
        "            return 1, 1, year + 1\n",
        "\n",
        "\n",
        "# Ввод данных\n",
        "date_input = input(\"День, месяц, год через пробел: \")\n",
        "day, month, year = map(int, date_input.split())\n",
        "\n",
        "# Получение предыдущей и следующей даты\n",
        "prev_day, prev_month, prev_year = previous_date(day, month, year)\n",
        "next_day, next_month, next_year = next_date(day, month, year)\n",
        "\n",
        "# Форматированный вывод\n",
        "print(f\"Предыдущий день: {prev_day:02d}/{prev_month:02d}/{prev_year}\")\n",
        "print(f\"Следующий день: {next_day:02d}/{next_month:02d}/{next_year}\")"
      ],
      "metadata": {
        "colab": {
          "base_uri": "https://localhost:8080/"
        },
        "id": "m0HT1dt3ADHh",
        "outputId": "f55a93a6-3524-4502-ecbb-78eb15fdf6c5"
      },
      "execution_count": null,
      "outputs": [
        {
          "output_type": "stream",
          "name": "stdout",
          "text": [
            "День, месяц, год через пробел: 1 3 2000\n",
            "Предыдущий день: 29/02/2000\n",
            "Следующий день: 02/03/2000\n"
          ]
        }
      ]
    },
    {
      "cell_type": "code",
      "source": [
        "# Задание task_02_01_05.\n",
        "#\n",
        "# Выполнила: Губайдуллина А.И.\n",
        "# Группа: АБП-231\n",
        "\n",
        "\n",
        "def another_date(day, month, year, delta=1):\n",
        "    \"\"\"Вернуть день, месяц, год, отличающийся на 'delta' дней.\n",
        "\n",
        "    Параметры:\n",
        "        day (int): день.\n",
        "        month (int): месяц.\n",
        "        year (int): год.\n",
        "        delta (int): сдвиг в днях (может быть отрицательным).\n",
        "\n",
        "    Результат:\n",
        "        tuple: (day, month, year) новой даты.\n",
        "    \"\"\"\n",
        "\n",
        "    def is_leap(year):\n",
        "        \"\"\"Является ли 'year' високосным годом?\"\"\"\n",
        "        return (year % 4 == 0 and year % 100 != 0) or (year % 400 == 0)\n",
        "\n",
        "    def days(month, year):\n",
        "        \"\"\"Вернуть количество дней в месяце 'month' года 'year'.\"\"\"\n",
        "        if month in [1, 3, 5, 7, 8, 10, 12]:\n",
        "            return 31\n",
        "        elif month in [4, 6, 9, 11]:\n",
        "            return 30\n",
        "        elif month == 2:\n",
        "            return 29 if is_leap(year) else 28\n",
        "        else:\n",
        "            return 0\n",
        "\n",
        "    def next_date(day, month, year):\n",
        "        \"\"\"Вернуть день, месяц, год следующего дня.\"\"\"\n",
        "        current_days = days(month, year)\n",
        "        if day < current_days:\n",
        "            return day + 1, month, year\n",
        "        else:\n",
        "            if month < 12:\n",
        "                return 1, month + 1, year\n",
        "            else:\n",
        "                return 1, 1, year + 1\n",
        "\n",
        "    def previous_date(day, month, year):\n",
        "        \"\"\"Вернуть день, месяц, год предыдущего дня.\"\"\"\n",
        "        if day > 1:\n",
        "            return day - 1, month, year\n",
        "        else:\n",
        "            if month > 1:\n",
        "                prev_month = month - 1\n",
        "                prev_days = days(prev_month, year)\n",
        "                return prev_days, prev_month, year\n",
        "            else:\n",
        "                return 31, 12, year - 1\n",
        "\n",
        "    # Обработка сдвига\n",
        "    current_day, current_month, current_year = day, month, year\n",
        "\n",
        "    if delta > 0:\n",
        "        # Прибавляем дни\n",
        "        for _ in range(delta):\n",
        "            current_day, current_month, current_year = next_date(current_day, current_month, current_year)\n",
        "    elif delta < 0:\n",
        "        # Вычитаем дни\n",
        "        for _ in range(abs(delta)):\n",
        "            current_day, current_month, current_year = previous_date(current_day, current_month, current_year)\n",
        "\n",
        "    return current_day, current_month, current_year\n",
        "\n",
        "\n",
        "# Ввод данных\n",
        "date_input = input(\"День, месяц, год через пробел: \")\n",
        "day, month, year = map(int, date_input.split())\n",
        "delta = int(input(\"Сдвиг (может быть отрицательным): \"))\n",
        "\n",
        "# Получение новой даты\n",
        "new_day, new_month, new_year = another_date(day, month, year, delta)\n",
        "\n",
        "# Форматированный вывод\n",
        "print(f\"Новый день: {new_day:02d}/{new_month:02d}/{new_year}\")"
      ],
      "metadata": {
        "colab": {
          "base_uri": "https://localhost:8080/"
        },
        "id": "qjsXM1txAywu",
        "outputId": "5c786084-c078-4eb5-fe1e-55bcc41d1bbe"
      },
      "execution_count": null,
      "outputs": [
        {
          "output_type": "stream",
          "name": "stdout",
          "text": [
            "День, месяц, год через пробел: 1 1 2000\n",
            "Сдвиг (может быть отрицательным): -2\n",
            "Новый день: 30/12/1999\n"
          ]
        }
      ]
    },
    {
      "cell_type": "code",
      "source": [
        "# Задание task_02_01_06.\n",
        "#\n",
        "# Выполнила: Губайдуллина А.И.\n",
        "# Группа: АБП-231\n",
        "\n",
        "def gcd(first, second):\n",
        "    \"\"\"Вернуть НОД целых чисел 'first' и 'second'.\"\"\"\n",
        "    while second != 0:\n",
        "        first, second = second, first % second\n",
        "    return abs(first)\n",
        "\n",
        "\n",
        "def lcm(first, second):\n",
        "    \"\"\"Вернуть НОК целых чисел 'first' и 'second'.\"\"\"\n",
        "    return abs(first * second) // gcd(first, second) if first != 0 and second != 0 else 0\n",
        "\n",
        "\n",
        "def gcd_nums(nums):\n",
        "    \"\"\"Вернуть НОД чисел из списка 'nums'.\n",
        "\n",
        "    Параметры:\n",
        "        nums (list): список целых чисел.\n",
        "\n",
        "    Результат:\n",
        "        int: НОД всех чисел списка.\n",
        "    \"\"\"\n",
        "    if not nums:\n",
        "        return 0\n",
        "\n",
        "    result = nums[0]\n",
        "    for i in range(1, len(nums)):\n",
        "        result = gcd(result, nums[i])\n",
        "    return result\n",
        "\n",
        "\n",
        "def lcm_nums(nums):\n",
        "    \"\"\"Вернуть НОК чисел из списка 'nums'.\n",
        "\n",
        "    Параметры:\n",
        "        nums (list): список целых чисел.\n",
        "\n",
        "    Результат:\n",
        "        int: НОК всех чисел списка.\n",
        "    \"\"\"\n",
        "    if not nums:\n",
        "        return 0\n",
        "\n",
        "    result = nums[0]\n",
        "    for i in range(1, len(nums)):\n",
        "        result = lcm(result, nums[i])\n",
        "    return result\n",
        "\n",
        "\n",
        "nums = list(map(int, input(\"Введите числа через пробел: \").split()))\n",
        "\n",
        "print(f\"НОД = {gcd_nums(nums)}\")\n",
        "print(f\"НОК = {lcm_nums(nums)}\")"
      ],
      "metadata": {
        "colab": {
          "base_uri": "https://localhost:8080/"
        },
        "id": "xEKVnMwsBqfr",
        "outputId": "66362d02-7aa8-406f-835f-6606f69f36dd"
      },
      "execution_count": null,
      "outputs": [
        {
          "output_type": "stream",
          "name": "stdout",
          "text": [
            "Введите числа через пробел: 8 10 14\n",
            "НОД = 2\n",
            "НОК = 280\n"
          ]
        }
      ]
    },
    {
      "cell_type": "code",
      "source": [
        "# Задание task_02_01_07.\n",
        "#\n",
        "# Выполнила: Губайдуллина А.И.\n",
        "# Группа: АБП-231\n",
        "\n",
        "def has_digits(sentence):\n",
        "    \"\"\"Проверить, содержит ли предложение хотя бы одну цифру.\n",
        "\n",
        "    Параметры:\n",
        "        sentence (str): предложение для проверки.\n",
        "\n",
        "    Результат:\n",
        "        bool: True - содержит цифру, False - не содержит.\n",
        "    \"\"\"\n",
        "    for char in sentence:\n",
        "        if char.isdigit():\n",
        "            return True\n",
        "    return False\n",
        "\n",
        "\n",
        "def sentences_with_digits_count(sentences):\n",
        "    \"\"\"Вернуть количество предложений, содержащих хотя бы одну цифру.\n",
        "\n",
        "    Параметры:\n",
        "        sentences (list): список предложений.\n",
        "\n",
        "    Результат:\n",
        "        int: количество предложений с цифрами.\n",
        "    \"\"\"\n",
        "    count = 0\n",
        "    for sentence in sentences:\n",
        "        if has_digits(sentence):\n",
        "            count += 1\n",
        "    return count\n",
        "\n",
        "\n",
        "n = int(input(\"Введите количество предложений: \"))\n",
        "\n",
        "sentences = []\n",
        "for i in range(n):\n",
        "    sentence = input(f\"Введите предложение №{i+1}:\\n\")\n",
        "    sentences.append(sentence)\n",
        "\n",
        "count = sentences_with_digits_count(sentences)\n",
        "print(f\"Предложений с цифрой = {count}\")"
      ],
      "metadata": {
        "colab": {
          "base_uri": "https://localhost:8080/"
        },
        "id": "w63AP21ACMoe",
        "outputId": "02902eb0-257e-43c7-a035-c15546736616"
      },
      "execution_count": null,
      "outputs": [
        {
          "output_type": "stream",
          "name": "stdout",
          "text": [
            "Введите количество предложений: 3\n",
            "Введите предложение №1:\n",
            "Просто текст\n",
            "Введите предложение №2:\n",
            "Текст с цифрой 1\n",
            "Введите предложение №3:\n",
            "Тут нет цифры\n",
            "Предложений с цифрой = 1\n"
          ]
        }
      ]
    },
    {
      "cell_type": "code",
      "source": [
        "# Задание task_02_01_08.\n",
        "#\n",
        "# Выполнила: Губайдуллина А.И.\n",
        "# Группа: АБП-231\n",
        "\n",
        "def print_with_border(string, char):\n",
        "    \"\"\"Напечатать строку в рамке из заданного символа.\n",
        "\n",
        "    Параметры:\n",
        "        string (str): строка для обрамления.\n",
        "        char (str): символ для рамки.\n",
        "    \"\"\"\n",
        "    # Длина рамки равна длине строки + 2 символа по бокам\n",
        "    border_length = len(string) + 2\n",
        "    border_line = char * border_length\n",
        "\n",
        "    # Печатаем рамку\n",
        "    print(border_line)\n",
        "    print(f\"{char}{string}{char}\")\n",
        "    print(border_line)\n",
        "\n",
        "\n",
        "s = input(\"Введите строку: \")\n",
        "k = input(\"Введите символ: \")\n",
        "\n",
        "print_with_border(s, k)"
      ],
      "metadata": {
        "colab": {
          "base_uri": "https://localhost:8080/"
        },
        "id": "IGDCraumDCpB",
        "outputId": "bd05a7a4-f63d-4686-87cb-ca510c7fe683"
      },
      "execution_count": null,
      "outputs": [
        {
          "output_type": "stream",
          "name": "stdout",
          "text": [
            "Введите строку: Просто текст\n",
            "Введите символ: 5\n",
            "55555555555555\n",
            "5Просто текст5\n",
            "55555555555555\n"
          ]
        }
      ]
    },
    {
      "cell_type": "code",
      "source": [
        "# Задание task_02_01_09.\n",
        "#\n",
        "# Выполнила: Губайдуллина А.И.\n",
        "# Группа: АБП-231\n",
        "\n",
        "LETTERS_EX = {10: \"A\", 11: \"B\", 12: \"C\", 13: \"D\", 14: \"E\", 15: \"F\"}\n",
        "DIGITS_EX = {\"A\": 10, \"B\": 11, \"C\": 12, \"D\": 13, \"E\": 14, \"F\": 15}\n",
        "\n",
        "\n",
        "def to_base(number, base):\n",
        "    \"\"\"Преобразовать десятичное число 'number' в с.с. 'base'.\n",
        "\n",
        "    Параметры:\n",
        "        number (int): десятичное число;\n",
        "        base (int): система счисления.\n",
        "\n",
        "    Результат:\n",
        "        str: число в с.с. 'base'.\"\"\"\n",
        "    if number == 0:\n",
        "        return \"0\"\n",
        "\n",
        "    result = \"\"\n",
        "    is_negative = False\n",
        "\n",
        "    # Обработка отрицательных чисел\n",
        "    if number < 0:\n",
        "        is_negative = True\n",
        "        number = abs(number)\n",
        "\n",
        "    # Перевод в указанную систему счисления\n",
        "    while number > 0:\n",
        "        remainder = number % base\n",
        "        if remainder < 10:\n",
        "            result = str(remainder) + result\n",
        "        else:\n",
        "            result = LETTERS_EX[remainder] + result\n",
        "        number //= base\n",
        "\n",
        "    if is_negative:\n",
        "        result = \"-\" + result\n",
        "\n",
        "    return result\n",
        "\n",
        "\n",
        "def from_base(number, base):\n",
        "    \"\"\"Преобразовать число 'number' из с.с. 'base' в десятичную систему.\n",
        "\n",
        "    Параметры:\n",
        "        number (str): число в с.с. 'base';\n",
        "        base (int): система счисления исходного числа.\n",
        "\n",
        "    Результат:\n",
        "        int: число в 10-й с.с.\"\"\"\n",
        "    number = number.upper()  # Для обработки строчных букв\n",
        "    result = 0\n",
        "    is_negative = False\n",
        "\n",
        "    # Обработка отрицательных чисел\n",
        "    if number.startswith('-'):\n",
        "        is_negative = True\n",
        "        number = number[1:]\n",
        "\n",
        "    # Перевод в десятичную систему\n",
        "    power = 1\n",
        "    for digit in reversed(number):\n",
        "        if digit.isdigit():\n",
        "            digit_value = int(digit)\n",
        "        else:\n",
        "            digit_value = DIGITS_EX[digit]\n",
        "\n",
        "        if digit_value >= base:\n",
        "            raise ValueError(f\"Цифра {digit} недопустима в системе счисления с основанием {base}\")\n",
        "\n",
        "        result += digit_value * power\n",
        "        power *= base\n",
        "\n",
        "    if is_negative:\n",
        "        result = -result\n",
        "\n",
        "    return result\n",
        "\n",
        "\n",
        "# Пример использования\n",
        "if __name__ == \"__main__\":\n",
        "    # Тестирование функций\n",
        "    print(\"Из 10-й в N-ю:\")\n",
        "    print(f\"255 в 16-й: {to_base(255, 16)}\")  # FF\n",
        "    print(f\"42 в 2-й: {to_base(42, 2)}\")      # 101010\n",
        "    print(f\"100 в 8-й: {to_base(100, 8)}\")    # 144\n",
        "\n",
        "    print(\"\\nИз N-й в 10-ю:\")\n",
        "    print(f\"FF из 16-й: {from_base('FF', 16)}\")     # 255\n",
        "    print(f\"101010 из 2-й: {from_base('101010', 2)}\") # 42\n",
        "    print(f\"144 из 8-й: {from_base('144', 8)}\")     # 100\n",
        "\n",
        "    # Пример с отрицательными числами\n",
        "    print(f\"-42 в 16-й: {to_base(-42, 16)}\")  # -2A\n",
        "    print(f\"-2A из 16-й: {from_base('-2A', 16)}\") # -42"
      ],
      "metadata": {
        "colab": {
          "base_uri": "https://localhost:8080/"
        },
        "id": "LdBgZZ1BDxjt",
        "outputId": "66e63bd5-bcad-411f-e864-3fb89d089ad0"
      },
      "execution_count": null,
      "outputs": [
        {
          "output_type": "stream",
          "name": "stdout",
          "text": [
            "Из 10-й в N-ю:\n",
            "255 в 16-й: FF\n",
            "42 в 2-й: 101010\n",
            "100 в 8-й: 144\n",
            "\n",
            "Из N-й в 10-ю:\n",
            "FF из 16-й: 255\n",
            "101010 из 2-й: 42\n",
            "144 из 8-й: 100\n",
            "-42 в 16-й: -2A\n",
            "-2A из 16-й: -42\n"
          ]
        }
      ]
    },
    {
      "cell_type": "code",
      "source": [
        "# Задание task_02_01_10.\n",
        "#\n",
        "# Выполнила: Губайдуллина А.И.\n",
        "# Группа: АБП-231\n",
        "\n",
        "def sentence_stats(sentence):\n",
        "    \"\"\"Вернуть символьную статистику 'sentence'. Регистр не учитывается.\n",
        "\n",
        "    Параметры:\n",
        "        sentence (str): предложение для анализа.\n",
        "\n",
        "    Результат:\n",
        "        dict: словарь вида {символ: количество}\n",
        "    \"\"\"\n",
        "    stats = {}\n",
        "\n",
        "    # Приводим все символы к нижнему регистру и перебираем\n",
        "    for char in sentence.lower():\n",
        "        if char in stats:\n",
        "            stats[char] += 1\n",
        "        else:\n",
        "            stats[char] = 1\n",
        "\n",
        "    return stats\n",
        "\n",
        "\n",
        "s = input(\"Введите предложение: \")\n",
        "\n",
        "result = sentence_stats(s)\n",
        "print(result)"
      ],
      "metadata": {
        "colab": {
          "base_uri": "https://localhost:8080/"
        },
        "id": "YnIfPw4hEUDl",
        "outputId": "e80e1c2b-7e4c-4b60-dbb2-750b038ad923"
      },
      "execution_count": null,
      "outputs": [
        {
          "output_type": "stream",
          "name": "stdout",
          "text": [
            "Введите предложение: мама МЫла РамУ\n",
            "{'м': 4, 'а': 4, ' ': 2, 'ы': 1, 'л': 1, 'р': 1, 'у': 1}\n"
          ]
        }
      ]
    },
    {
      "cell_type": "code",
      "source": [
        "# Задание task_02_01_11.\n",
        "#\n",
        "# Выполнила: Губайдуллина А.И.\n",
        "# Группа: АБП-231\n",
        "\n",
        "def ceasar(text, shift):\n",
        "    \"\"\"Вернуть измененную строку 'text' со сдвигом 'shift'.\n",
        "\n",
        "    Параметры:\n",
        "        - text (str): строка;\n",
        "        - shift (int): сдвиг.\n",
        "\n",
        "    Результат:\n",
        "        str: измененная строка.\"\"\"\n",
        "    # Набор кириллических букв\n",
        "    letters = [chr(i) for i in range(ord('а'), ord('я') + 1)]\n",
        "    upper_letters = [chr(i) for i in range(ord('А'), ord('Я') + 1)]\n",
        "\n",
        "    result = []\n",
        "\n",
        "    for char in text:\n",
        "        if char in letters:  # строчные буквы\n",
        "            index = letters.index(char)\n",
        "            new_index = (index + shift) % len(letters)\n",
        "            result.append(letters[new_index])\n",
        "        elif char in upper_letters:  # заглавные буквы\n",
        "            index = upper_letters.index(char)\n",
        "            new_index = (index + shift) % len(upper_letters)\n",
        "            result.append(upper_letters[new_index])\n",
        "        else:  # все остальные символы (пробелы, знаки препинания и т.д.)\n",
        "            result.append(char)\n",
        "\n",
        "    return ''.join(result)\n",
        "\n",
        "\n",
        "text = input(\"Введите предложение: \")\n",
        "shift = int(input(\"Введите сдвиг: \"))\n",
        "\n",
        "encoded = ceasar(text, shift)\n",
        "decoded = ceasar(encoded, -shift)  # расшифровка - обратный сдвиг\n",
        "\n",
        "print(\"Зашифрованная строка:\", encoded)\n",
        "print(\"Расшифрованная строка:\", decoded)"
      ],
      "metadata": {
        "colab": {
          "base_uri": "https://localhost:8080/"
        },
        "id": "zzxjq3nCE6sy",
        "outputId": "782e80a7-3d8b-4238-f8a9-faed08c26a97"
      },
      "execution_count": null,
      "outputs": [
        {
          "output_type": "stream",
          "name": "stdout",
          "text": [
            "Введите предложение: програММиРоВание C++\n",
            "Введите сдвиг: 4\n",
            "Зашифрованная строка: уфтзфдРРмФтЖдсмй C++\n",
            "Расшифрованная строка: програММиРоВание C++\n"
          ]
        }
      ]
    },
    {
      "cell_type": "code",
      "source": [
        "# Задание task_02_01_12.\n",
        "#\n",
        "# Выполнила: Губайдуллина А.И.\n",
        "# Группа: АБП-231\n",
        "\n",
        "data = [\n",
        "    {1: 'м', 2: 'м', 3: 'м', 4: 'ж'},\n",
        "    {1: 'ж', 2: 'м', 3: 'ж', 4: 'ж'},\n",
        "    {1: 'ж', 2: 'ж', 3: 'ж', 4: 'ж'},\n",
        "    {1: 'м', 2: 'м', 3: 'м', 4: 'м'},\n",
        "    {1: None, 2: None, 3: None, 4: None},\n",
        "    {1: 'м', 2: None, 3: None, 4: 'ж'},\n",
        "    {1: None, 2: None, 3: None, 4: None},\n",
        "    {1: 'м', 2: 'м', 3: None, 4: 'м'},\n",
        "    {1: 'ж', 2: None, 3: None, 4: 'ж'}\n",
        "]\n",
        "\n",
        "\n",
        "def vacant_compartments(data):\n",
        "    \"\"\"Вернуть список полностью свободных купе. Нумерация купе идет с 1.\n",
        "\n",
        "    Параметры:\n",
        "        - data (list of dict): данные о занятости мест в вагоне.\n",
        "\n",
        "    Результат:\n",
        "        list of int.\"\"\"\n",
        "    result = []\n",
        "    for i, compartment in enumerate(data, 1):\n",
        "        # Проверяем, что все места свободны (значение None)\n",
        "        if all(seat is None for seat in compartment.values()):\n",
        "            result.append(i)\n",
        "    return result\n",
        "\n",
        "\n",
        "def vacant_seats(data, compartments_condition=None, seat_condition=None):\n",
        "    \"\"\"Вернуть список свободных мест при соблюдении условий\n",
        "    'compartments_condition' и 'seat_condition'.\n",
        "    Нумерация купе и мест идет с 1.\n",
        "\n",
        "    Параметры:\n",
        "        - data (list of dict): данные о занятости мест в вагоне;\n",
        "        - compartments_condition (function):\n",
        "          функция c 1 параметром (словарь - купе), возвращающая True/False;\n",
        "        - seat_condition (function):\n",
        "          функция c 2 параметрами (номер места, значение),\n",
        "          возвращающая True/False.\n",
        "\n",
        "    Результат:\n",
        "        list of tuple: список кортежей вида (номер купе, номер места).\"\"\"\n",
        "    result = []\n",
        "\n",
        "    for compartment_num, compartment in enumerate(data, 1):\n",
        "        # Проверяем условие для купе (если задано)\n",
        "        if compartments_condition is None or compartments_condition(compartment):\n",
        "            for seat_num, seat_value in compartment.items():\n",
        "                # Место свободно и удовлетворяет условию места (если задано)\n",
        "                if seat_value is None and (seat_condition is None or seat_condition(seat_num, seat_value)):\n",
        "                    result.append((compartment_num, seat_num))\n",
        "\n",
        "    return result\n",
        "\n",
        "\n",
        "def is_same_sex_and_vacant(compartment, sex):\n",
        "    \"\"\"Вернуть True, если в купе 'compartment' есть свободные места,\n",
        "    а остальные пассажиры только пола 'sex'.\n",
        "\n",
        "    Параметры:\n",
        "        - compartment (dict): данные о купе;\n",
        "        - sex (str): пол (\"м\" или \"ж\").\n",
        "\n",
        "    Результат:\n",
        "        bool.\"\"\"\n",
        "    # Проверяем, что есть хотя бы одно свободное место\n",
        "    has_vacant = any(seat is None for seat in compartment.values())\n",
        "\n",
        "    # Проверяем, что все занятые места заняты пассажирами указанного пола\n",
        "    all_same_sex = all(seat == sex or seat is None for seat in compartment.values())\n",
        "\n",
        "    # Проверяем, что купе не полностью свободно (есть хотя бы один пассажир)\n",
        "    has_passengers = any(seat is not None for seat in compartment.values())\n",
        "\n",
        "    return has_vacant and all_same_sex and has_passengers\n",
        "\n",
        "\n",
        "# список полностью свободных купе\n",
        "print(\"Полностью свободные купе:\", vacant_compartments(data))\n",
        "\n",
        "# список свободных мест в вагоне\n",
        "print(\"Свободные места в вагоне:\", vacant_seats(data))\n",
        "\n",
        "# список свободных нижних мест\n",
        "print(\"Свободные нижние места:\", vacant_seats(data, seat_condition=lambda seat, value: seat % 2 != 0))\n",
        "\n",
        "# список свободных верхних мест\n",
        "print(\"Свободные верхние места:\", vacant_seats(data, seat_condition=lambda seat, value: seat % 2 == 0))\n",
        "\n",
        "# список свободных мест в купе с исключительно мужской компанией\n",
        "print(\"Свободные места в мужских купе:\", vacant_seats(data, lambda x: is_same_sex_and_vacant(x, \"м\")))\n",
        "\n",
        "# список свободных мест в купе с исключительно женской компанией\n",
        "print(\"Свободные места в женских купе:\", vacant_seats(data, lambda x: is_same_sex_and_vacant(x, \"ж\")))"
      ],
      "metadata": {
        "colab": {
          "base_uri": "https://localhost:8080/"
        },
        "id": "Rcn98ZiZFefJ",
        "outputId": "336f1ff9-d630-4633-ca51-ea540a1df7a1"
      },
      "execution_count": null,
      "outputs": [
        {
          "output_type": "stream",
          "name": "stdout",
          "text": [
            "Полностью свободные купе: [5, 7]\n",
            "Свободные места в вагоне: [(5, 1), (5, 2), (5, 3), (5, 4), (6, 2), (6, 3), (7, 1), (7, 2), (7, 3), (7, 4), (8, 3), (9, 2), (9, 3)]\n",
            "Свободные нижние места: [(5, 1), (5, 3), (6, 3), (7, 1), (7, 3), (8, 3), (9, 3)]\n",
            "Свободные верхние места: [(5, 2), (5, 4), (6, 2), (7, 2), (7, 4), (9, 2)]\n",
            "Свободные места в мужских купе: [(8, 3)]\n",
            "Свободные места в женских купе: [(9, 2), (9, 3)]\n"
          ]
        }
      ]
    },
    {
      "cell_type": "code",
      "source": [
        "# Задание task_02_01_13.\n",
        "#\n",
        "# Выполнила: Губайдуллина А.И.\n",
        "# Группа: АБП-231\n",
        "\n",
        "votes = [\n",
        "    2, 3, -1, 2, 5, 1, 1, 4, 1, 1, 1, 3, 1, 3, 5, -1, 5, 2, 5, 5,\n",
        "    3, 3, 2, 3, 3, 2, 2, 1, 3, 2, 5, 2, 2, 4, 1, 1, 3, 2, 2, 3, 3,\n",
        "    3, 1, 4, 2, 1, 4, 2, 3, 3, 3, -1, 5, 3, 1, 4, 5, 1, 1, 3, 3,\n",
        "    3, -1, 5, 3, 3, 2, 5, 1, 1, 5, -1, 1, 2, 2, 3, -1, 4, 2, 5, 4,\n",
        "    2, -1, 3, 1, 4, 3, 5, 4, 1, 5, 3, 2, 4, 2, 1, 3, 4, 1, 1, 3, 4\n",
        "]\n",
        "\n",
        "parties = {\n",
        "    1: \"Партия №1\", 2: \"Партия №2\", 3: \"Партия №3\",\n",
        "    4: \"Партия №4\", 5: \"Партия №5\", -1: \"Испорчено\"\n",
        "}\n",
        "\n",
        "\n",
        "def parties_votes(parties, votes):\n",
        "    \"\"\"Вернуть информацию о голосах 'votes', отданных за партии 'parties'.\n",
        "    Испорченные бланки также присутствуют в результате.\n",
        "\n",
        "    Параметры:\n",
        "        - parties (dict): информация о партиях (номер голоса: название);\n",
        "        - votes (list): номера голосов.\n",
        "\n",
        "    Результат:\n",
        "        dict: название: кол-во отданных голосов.\"\"\"\n",
        "    result = {}\n",
        "\n",
        "    # Инициализируем счетчики для всех партий\n",
        "    for party_name in parties.values():\n",
        "        result[party_name] = 0\n",
        "\n",
        "    # Подсчитываем голоса\n",
        "    for vote in votes:\n",
        "        party_name = parties[vote]\n",
        "        result[party_name] += 1\n",
        "\n",
        "    return result\n",
        "\n",
        "\n",
        "def print_results(votes_for_p):\n",
        "    \"\"\"Вывести результаты голосования в формате:\n",
        "\n",
        "    1. Партия №2 | 1111 | 58.21%\n",
        "    2. Партия №4 |  999 | 38.14%\n",
        "\n",
        "    Параметры:\n",
        "        - votes_for_p (dict): результат функции parties_votes().\n",
        "    \"\"\"\n",
        "    # Удаляем \"Испорчено\" из результатов для сортировки (добавим в конец)\n",
        "    valid_votes = {name: count for name, count in votes_for_p.items() if name != \"Испорчено\"}\n",
        "    spoiled_votes = votes_for_p.get(\"Испорчено\", 0)\n",
        "\n",
        "    # Сортируем партии по убыванию голосов\n",
        "    sorted_parties = sorted(valid_votes.items(), key=lambda x: x[1], reverse=True)\n",
        "\n",
        "    # Общее количество голосов (включая испорченные)\n",
        "    total_votes = sum(votes_for_p.values())\n",
        "\n",
        "    # Выводим результаты для валидных партий\n",
        "    for i, (party_name, count) in enumerate(sorted_parties, 1):\n",
        "        percentage = (count / total_votes) * 100\n",
        "        # Форматируем вывод: выравниваем числа и проценты\n",
        "        print(f\"{i}. {party_name} | {count:2d} | {percentage:5.2f}%\")\n",
        "\n",
        "    # Выводим испорченные бланки в конце\n",
        "    if spoiled_votes > 0:\n",
        "        spoiled_percentage = (spoiled_votes / total_votes) * 100\n",
        "        # Номер позиции для испорченных бланков\n",
        "        position = len(sorted_parties) + 1\n",
        "        print(f\"{position}. Испорчено | {spoiled_votes:2d} | {spoiled_percentage:5.2f}%\")\n",
        "\n",
        "\n",
        "print_results(parties_votes(parties, votes))"
      ],
      "metadata": {
        "colab": {
          "base_uri": "https://localhost:8080/"
        },
        "id": "lgnlp2czGTAx",
        "outputId": "0df30aa9-7c88-45c4-9cf8-990a619b10b7"
      },
      "execution_count": null,
      "outputs": [
        {
          "output_type": "stream",
          "name": "stdout",
          "text": [
            "1. Партия №3 | 27 | 26.47%\n",
            "2. Партия №1 | 22 | 21.57%\n",
            "3. Партия №2 | 20 | 19.61%\n",
            "4. Партия №5 | 14 | 13.73%\n",
            "5. Партия №4 | 12 | 11.76%\n",
            "6. Испорчено |  7 |  6.86%\n"
          ]
        }
      ]
    },
    {
      "cell_type": "code",
      "source": [
        "# Задание task_02_01_14.\n",
        "#\n",
        "# Выполнила: Губайдуллина А.И.\n",
        "# Группа: АБП-231\n",
        "\n",
        "def split_numbers(*args):\n",
        "    \"\"\"Вернуть 2 списка - отрицательных и неотрицательных значений.\n",
        "\n",
        "    Параметры:\n",
        "        *args: произвольное количество числовых аргументов.\n",
        "\n",
        "    Результат:\n",
        "        - list: отрицательные значения (отсортированы по убыванию);\n",
        "        - list: неотрицательные значения (отсортированы по возрастанию).\"\"\"\n",
        "    negative = []\n",
        "    non_negative = []\n",
        "\n",
        "    # Разделяем числа на отрицательные и неотрицательные\n",
        "    for num in args:\n",
        "        if num < 0:\n",
        "            negative.append(num)\n",
        "        else:\n",
        "            non_negative.append(num)\n",
        "\n",
        "    # Сортируем отрицательные по убыванию (от -1 к -∞)\n",
        "    negative.sort(reverse=True)\n",
        "    # Сортируем неотрицательные по возрастанию (от 0 к +∞)\n",
        "    non_negative.sort()\n",
        "\n",
        "    return negative, non_negative\n",
        "\n",
        "\n",
        "print(split_numbers(1, 4, -5, 0, -33))"
      ],
      "metadata": {
        "colab": {
          "base_uri": "https://localhost:8080/"
        },
        "id": "ywdqvNI-G49u",
        "outputId": "2517d8b1-026a-4098-9371-021bb3d7149b"
      },
      "execution_count": null,
      "outputs": [
        {
          "output_type": "stream",
          "name": "stdout",
          "text": [
            "([-5, -33], [0, 1, 4])\n"
          ]
        }
      ]
    },
    {
      "cell_type": "code",
      "source": [
        "# Задание task_02_01_15.\n",
        "#\n",
        "# Выполнила: Губайдуллина А.И.\n",
        "# Группа: АБП-231\n",
        "\n",
        "def gdp(c, i, g, ex, im):\n",
        "    \"\"\"Вернуть значение ВВП.\n",
        "\n",
        "    Параметры:\n",
        "        - c (int): конечное потребление\n",
        "        - i (int): валовое накопление капитала\n",
        "        - g (int): государственные расходы\n",
        "        - ex (int): экспорт\n",
        "        - im (int): импорт\n",
        "\n",
        "    Результат:\n",
        "        int: значение ВВП.\n",
        "    \"\"\"\n",
        "    return c + i + g + ex - im\n",
        "\n",
        "\n",
        "# Создаем пустые структуры данных\n",
        "info_dict = {}\n",
        "info_list = []\n",
        "\n",
        "# Ввод данных с клавиатуры\n",
        "print(\"Введите значения для расчета ВВП:\")\n",
        "info_dict['c'] = int(input(\"Конечное потребление (C): \"))\n",
        "info_dict['i'] = int(input(\"Валовое накопление капитала (I): \"))\n",
        "info_dict['g'] = int(input(\"Государственные расходы (G): \"))\n",
        "info_dict['ex'] = int(input(\"Экспорт (Ex): \"))\n",
        "info_dict['im'] = int(input(\"Импорт (Im): \"))\n",
        "\n",
        "# Сохраняем те же значения в список (в том же порядке)\n",
        "info_list = [\n",
        "    info_dict['c'],\n",
        "    info_dict['i'],\n",
        "    info_dict['g'],\n",
        "    info_dict['ex'],\n",
        "    info_dict['im']\n",
        "]\n",
        "\n",
        "# Вычисляем ВВП используя распаковку аргументов\n",
        "# Из словаря (важен порядок ключей в Python 3.7+)\n",
        "gdp_from_dict = gdp(**info_dict)\n",
        "\n",
        "# Из списка\n",
        "gdp_from_list = gdp(*info_list)\n",
        "\n",
        "# Вывод результатов\n",
        "print(f\"\\nВВП рассчитанный из словаря: {gdp_from_dict}\")\n",
        "print(f\"ВВП рассчитанный из списка: {gdp_from_list}\")\n",
        "\n"
      ],
      "metadata": {
        "colab": {
          "base_uri": "https://localhost:8080/"
        },
        "id": "tAQAyBVLHgqG",
        "outputId": "e77024b0-e368-4bf3-faaa-c36aa65bda28"
      },
      "execution_count": null,
      "outputs": [
        {
          "output_type": "stream",
          "name": "stdout",
          "text": [
            "Введите значения для расчета ВВП:\n",
            "Конечное потребление (C): 100\n",
            "Валовое накопление капитала (I): 50\n",
            "Государственные расходы (G): 30\n",
            "Экспорт (Ex): 20\n",
            "Импорт (Im): 10\n",
            "\n",
            "ВВП рассчитанный из словаря: 190\n",
            "ВВП рассчитанный из списка: 190\n"
          ]
        }
      ]
    },
    {
      "cell_type": "code",
      "source": [
        "# Задание task_02_01_16.\n",
        "#\n",
        "# Выполнила: Губайдуллина А.И.\n",
        "# Группа: АБП-231\n",
        "\n",
        "def pow1(value, power):\n",
        "    \"\"\"Вернуть 'value' в степени 'power'. Итеративный алгоритм.\n",
        "\n",
        "    Параметры:\n",
        "        - value (int/float): основание степени;\n",
        "        - power (int): показатель степени (неотрицательный).\n",
        "\n",
        "    Результат:\n",
        "        int/float: value в степени power.\"\"\"\n",
        "    result = 1\n",
        "    for _ in range(power):\n",
        "        result *= value\n",
        "    return result\n",
        "\n",
        "\n",
        "def pow2(value, power):\n",
        "    \"\"\"Вернуть 'value' в степени 'power'. Рекурсивный алгоритм.\n",
        "\n",
        "    Параметры:\n",
        "        - value (int/float): основание степени;\n",
        "        - power (int): показатель степени (неотрицательный).\n",
        "\n",
        "    Результат:\n",
        "        int/float: value в степени power.\"\"\"\n",
        "    # Базовый случай: любое число в степени 0 равно 1\n",
        "    if power == 0:\n",
        "        return 1\n",
        "    # Рекурсивный случай: value^power = value * value^(power-1)\n",
        "    return value * pow2(value, power - 1)\n",
        "\n",
        "\n",
        "print(pow1(5, 3))  # 125\n",
        "print(pow2(5, 3))  # 125"
      ],
      "metadata": {
        "colab": {
          "base_uri": "https://localhost:8080/"
        },
        "id": "Sq9dfEioIGJD",
        "outputId": "f6b5ec0e-eb07-47a5-f4b1-4dec762a700d"
      },
      "execution_count": null,
      "outputs": [
        {
          "output_type": "stream",
          "name": "stdout",
          "text": [
            "125\n",
            "125\n"
          ]
        }
      ]
    },
    {
      "cell_type": "code",
      "source": [
        "# Задание task_02_01_17.\n",
        "#\n",
        "# Выполнила: Губайдуллина А.И.\n",
        "# Группа: АБП-231\n",
        "\n",
        "def digits_sum(value):\n",
        "    \"\"\"Вернуть сумму цифр числа 'value'. Рекурсивная реализация.\n",
        "\n",
        "    Параметры:\n",
        "        - value (int): натуральное число.\n",
        "\n",
        "    Результат:\n",
        "        int: сумма цифр числа.\n",
        "    \"\"\"\n",
        "    # Базовый случай: если число состоит из одной цифры\n",
        "    if value < 10:\n",
        "        return value\n",
        "    # Рекурсивный случай: последняя цифра + сумма цифр остатка числа\n",
        "    else:\n",
        "        return value % 10 + digits_sum(value // 10)\n",
        "\n",
        "\n",
        "def digits_count(value):\n",
        "    \"\"\"Вернуть количество цифр числа 'value'. Рекурсивная реализация.\n",
        "\n",
        "    Параметры:\n",
        "        - value (int): натуральное число.\n",
        "\n",
        "    Результат:\n",
        "        int: количество цифр в числе.\n",
        "    \"\"\"\n",
        "    # Базовый случай: если число состоит из одной цифры\n",
        "    if value < 10:\n",
        "        return 1\n",
        "    # Рекурсивный случай: 1 (текущая цифра) + количество цифр в остатке\n",
        "    else:\n",
        "        return 1 + digits_count(value // 10)\n",
        "\n",
        "\n",
        "print(digits_sum(12345))    # 15\n",
        "print(digits_count(12345))  # 5\n"
      ],
      "metadata": {
        "colab": {
          "base_uri": "https://localhost:8080/"
        },
        "id": "fEmwtkR1Irxr",
        "outputId": "afbab6ea-4532-43b6-e04b-3f3d7c2e58fa"
      },
      "execution_count": null,
      "outputs": [
        {
          "output_type": "stream",
          "name": "stdout",
          "text": [
            "15\n",
            "5\n"
          ]
        }
      ]
    },
    {
      "cell_type": "code",
      "source": [
        "# Задание task_02_01_18.\n",
        "#\n",
        "# Выполнила: Губайдуллина А.И.\n",
        "# Группа: АБП-231\n",
        "\n",
        "def sum_digits_rec(number):\n",
        "    \"\"\"Вычислить сумму цифр числа 'number' рекурсивно.\n",
        "\n",
        "    Параметры:\n",
        "        - number (int): натуральное число.\n",
        "\n",
        "    Результат:\n",
        "        - int: сумма цифр числа.\"\"\"\n",
        "    # Базовый случай: если число состоит из одной цифры\n",
        "    if number < 10:\n",
        "        return number\n",
        "    # Рекурсивный случай: последняя цифра + сумма цифр остатка числа\n",
        "    else:\n",
        "        last_digit = number % 10\n",
        "        remaining_number = number // 10\n",
        "        return last_digit + sum_digits_rec(remaining_number)\n",
        "\n",
        "\n",
        "print(sum_digits_rec(12345))  # 15\n",
        "print(sum_digits_rec(987))    # 24"
      ],
      "metadata": {
        "colab": {
          "base_uri": "https://localhost:8080/"
        },
        "id": "TZMbbByZJQE7",
        "outputId": "786be099-c8b4-4663-e7f0-b71666b570f2"
      },
      "execution_count": null,
      "outputs": [
        {
          "output_type": "stream",
          "name": "stdout",
          "text": [
            "15\n",
            "24\n"
          ]
        }
      ]
    },
    {
      "cell_type": "code",
      "source": [
        "# Задание task_02_01_19.\n",
        "#\n",
        "# Выполнила: Губайдуллина А.И.\n",
        "# Группа: АБП-231\n",
        "\n",
        "def fibonacci_rec(n):\n",
        "    \"\"\"Найти n-ое число Фибоначчи рекурсивно.\n",
        "\n",
        "    Параметры:\n",
        "        - n (int): порядковый номер числа в последовательности (начиная с 0).\n",
        "\n",
        "    Результат:\n",
        "        - int: n-ое число Фибоначчи.\"\"\"\n",
        "    # Базовые случаи\n",
        "    if n == 0:\n",
        "        return 0\n",
        "    elif n == 1:\n",
        "        return 1\n",
        "    # Рекурсивный случай: F(n) = F(n-1) + F(n-2)\n",
        "    else:\n",
        "        return fibonacci_rec(n - 1) + fibonacci_rec(n - 2)\n",
        "\n",
        "\n",
        "print(fibonacci_rec(10))  # 55\n",
        "print(fibonacci_rec(5))   # 5"
      ],
      "metadata": {
        "colab": {
          "base_uri": "https://localhost:8080/"
        },
        "id": "gmzbaUG6Jrg_",
        "outputId": "dc1f0f96-1034-4f64-c764-c8bb5bc69c30"
      },
      "execution_count": null,
      "outputs": [
        {
          "output_type": "stream",
          "name": "stdout",
          "text": [
            "55\n",
            "5\n"
          ]
        }
      ]
    },
    {
      "cell_type": "code",
      "source": [
        "# Задание task_02_01_20.\n",
        "#\n",
        "# Выполнила: Губайдуллина А.И.\n",
        "# Группа: АБП-231\n",
        "\n",
        "def reverse_string_rec(s):\n",
        "    \"\"\"Перевернуть строку 's' с помощью рекурсии.\n",
        "\n",
        "    Параметры:\n",
        "        - s (str): исходная строка.\n",
        "\n",
        "    Результат:\n",
        "        - str: перевернутая строка.\"\"\"\n",
        "    # Базовый случай: пустая строка или строка из одного символа\n",
        "    if len(s) <= 1:\n",
        "        return s\n",
        "    # Рекурсивный случай: последний символ + перевернутая остальная часть строки\n",
        "    else:\n",
        "        return s[-1] + reverse_string_rec(s[:-1])\n",
        "\n",
        "\n",
        "print(reverse_string_rec(\"hello\"))   # \"olleh\"\n",
        "print(reverse_string_rec(\"python\"))  # \"nohtyp\""
      ],
      "metadata": {
        "colab": {
          "base_uri": "https://localhost:8080/"
        },
        "id": "7wXsVs9EKEPg",
        "outputId": "cc12bc50-ad20-46c6-805d-fd8c215bd2d7"
      },
      "execution_count": null,
      "outputs": [
        {
          "output_type": "stream",
          "name": "stdout",
          "text": [
            "olleh\n",
            "nohtyp\n"
          ]
        }
      ]
    },
    {
      "cell_type": "code",
      "source": [
        "# Задание task_02_01_21.\n",
        "#\n",
        "# Выполнила: Губайдуллина А.И.\n",
        "# Группа: АБП-231\n",
        "\n",
        "def is_palindrome_rec(s):\n",
        "    \"\"\"Проверить, является ли строка 's' палиндромом, рекурсивно.\n",
        "\n",
        "    Параметры:\n",
        "        - s (str): строка для проверки.\n",
        "\n",
        "    Результат:\n",
        "        - bool: True, если строка является палиндромом, иначе False.\"\"\"\n",
        "    # Приводим строку к нижнему регистру и убираем пробелы для универсальности\n",
        "    s = s.lower().replace(\" \", \"\")\n",
        "\n",
        "    # Базовые случаи\n",
        "    if len(s) <= 1:\n",
        "        return True\n",
        "    # Если первый и последний символы не совпадают - не палиндром\n",
        "    elif s[0] != s[-1]:\n",
        "        return False\n",
        "    # Рекурсивный случай: проверяем внутреннюю часть строки\n",
        "    else:\n",
        "        return is_palindrome_rec(s[1:-1])\n",
        "\n",
        "\n",
        "print(is_palindrome_rec(\"racecar\"))  # True\n",
        "print(is_palindrome_rec(\"hello\"))    # False\n",
        "print(is_palindrome_rec(\"madam\"))    # True"
      ],
      "metadata": {
        "colab": {
          "base_uri": "https://localhost:8080/"
        },
        "id": "DGR3lwKsKow1",
        "outputId": "1e8ac109-6203-4470-8371-ec0798003355"
      },
      "execution_count": null,
      "outputs": [
        {
          "output_type": "stream",
          "name": "stdout",
          "text": [
            "True\n",
            "False\n",
            "True\n"
          ]
        }
      ]
    },
    {
      "cell_type": "code",
      "source": [
        "# Задание task_02_01_22.\n",
        "#\n",
        "# Выполнила: Губайдуллина А.И.\n",
        "# Группа: АБП-231\n",
        "\n",
        "def sum_list_rec(numbers):\n",
        "    \"\"\"Вычислить сумму элементов списка 'numbers' рекурсивно.\n",
        "\n",
        "    Параметры:\n",
        "        - numbers (list): список чисел.\n",
        "\n",
        "    Результат:\n",
        "        - int, float: сумма всех элементов списка.\"\"\"\n",
        "    # Базовый случай: пустой список\n",
        "    if not numbers:\n",
        "        return 0\n",
        "    # Рекурсивный случай: первый элемент + сумма остальных элементов\n",
        "    else:\n",
        "        return numbers[0] + sum_list_rec(numbers[1:])\n",
        "\n",
        "\n",
        "my_list = [1, 5, 3, 7, 2, 8]\n",
        "print(sum_list_rec(my_list))  # 26\n",
        "print(sum_list_rec([]))       # 0"
      ],
      "metadata": {
        "colab": {
          "base_uri": "https://localhost:8080/"
        },
        "id": "aEJGckD1K94U",
        "outputId": "5f327c40-2bbb-415e-d9b7-a9f3d9e88f08"
      },
      "execution_count": null,
      "outputs": [
        {
          "output_type": "stream",
          "name": "stdout",
          "text": [
            "26\n",
            "0\n"
          ]
        }
      ]
    },
    {
      "cell_type": "code",
      "source": [
        "# Задание task_02_01_23.\n",
        "#\n",
        "# Выполнила: Губайдуллина А.И.\n",
        "# Группа: АБП-231\n",
        "\n",
        "def print_numbers_down_rec(n):\n",
        "    \"\"\"Вывести числа от 'n' до 1 в столбик с помощью рекурсии.\n",
        "\n",
        "    Параметры:\n",
        "        - n (int): начальное положительное число.\n",
        "\n",
        "    Результат:\n",
        "        - None: функция ничего не возвращает, только печатает числа.\"\"\"\n",
        "    # Базовый случай: если n меньше или равно 0, прекращаем рекурсию\n",
        "    if n <= 0:\n",
        "        return\n",
        "    # Печатаем текущее число\n",
        "    print(n)\n",
        "    # Рекурсивный вызов для n-1\n",
        "    print_numbers_down_rec(n - 1)\n",
        "\n",
        "\n",
        "print_numbers_down_rec(5)"
      ],
      "metadata": {
        "colab": {
          "base_uri": "https://localhost:8080/"
        },
        "id": "mZ54PRT_LSax",
        "outputId": "86e35d0e-b6e8-42fd-fa31-2901249d1dea"
      },
      "execution_count": null,
      "outputs": [
        {
          "output_type": "stream",
          "name": "stdout",
          "text": [
            "5\n",
            "4\n",
            "3\n",
            "2\n",
            "1\n"
          ]
        }
      ]
    },
    {
      "cell_type": "code",
      "source": [
        "# Задание task_02_01_24.\n",
        "#\n",
        "# Выполнила: Губайдуллина А.И.\n",
        "# Группа: АБП-231\n",
        "\n",
        "def gcd_rec(a, b):\n",
        "    \"\"\"Найти наибольший общий делитель (НОД) чисел 'a' и 'b' рекурсивно.\n",
        "\n",
        "    Параметры:\n",
        "        - a (int): первое число.\n",
        "        - b (int): второе число.\n",
        "\n",
        "    Результат:\n",
        "        - int: НОД для a и b.\"\"\"\n",
        "    # Базовый случай: если b равно 0, НОД равен a\n",
        "    if b == 0:\n",
        "        return abs(a)  # Возвращаем модуль для работы с отрицательными числами\n",
        "    # Рекурсивный случай: НОД(a, b) = НОД(b, a % b)\n",
        "    else:\n",
        "        return gcd_rec(b, a % b)\n",
        "\n",
        "\n",
        "print(gcd_rec(48, 18))   # 6\n",
        "print(gcd_rec(101, 10))  # 1"
      ],
      "metadata": {
        "colab": {
          "base_uri": "https://localhost:8080/"
        },
        "id": "8V-8k8VKLm1S",
        "outputId": "34753778-c426-4645-ddcc-22c8dff5289c"
      },
      "execution_count": null,
      "outputs": [
        {
          "output_type": "stream",
          "name": "stdout",
          "text": [
            "6\n",
            "1\n"
          ]
        }
      ]
    },
    {
      "cell_type": "code",
      "source": [
        "# Задание task_02_01_25.\n",
        "#\n",
        "# Выполнила: Губайдуллина А.И.\n",
        "# Группа: АБП-231\n",
        "\n",
        "def to_binary_rec(n):\n",
        "    \"\"\"Преобразовать десятичное число 'n' в двоичную строку рекурсивно.\n",
        "\n",
        "    Параметры:\n",
        "        - n (int): неотрицательное целое число.\n",
        "\n",
        "    Результат:\n",
        "        - str: двоичное представление числа 'n'.\"\"\"\n",
        "    # Базовый случай: если число 0 или 1\n",
        "    if n == 0:\n",
        "        return \"0\"\n",
        "    elif n == 1:\n",
        "        return \"1\"\n",
        "    # Рекурсивный случай: двоичное представление n = двоичное(n//2) + остаток\n",
        "    else:\n",
        "        return to_binary_rec(n // 2) + str(n % 2)\n",
        "\n",
        "\n",
        "print(to_binary_rec(25))  # \"11001\"\n",
        "print(to_binary_rec(7))   # \"111\"\n",
        "print(to_binary_rec(0))   # \"0\""
      ],
      "metadata": {
        "colab": {
          "base_uri": "https://localhost:8080/"
        },
        "id": "N1uur_2gMAuf",
        "outputId": "8c3d090e-b5a7-4c88-928a-b23538b2abd8"
      },
      "execution_count": null,
      "outputs": [
        {
          "output_type": "stream",
          "name": "stdout",
          "text": [
            "11001\n",
            "111\n",
            "0\n"
          ]
        }
      ]
    },
    {
      "cell_type": "code",
      "source": [
        "# Задание task_02_01_26.\n",
        "#\n",
        "# Выполнила: Губайдуллина А.И.\n",
        "# Группа: АБП-231\n",
        "\n",
        "def flatten_list_rec(nested_list):\n",
        "    \"\"\"Преобразовать вложенный список 'nested_list' в плоский рекурсивно.\n",
        "\n",
        "    Параметры:\n",
        "        - nested_list (list): список, который может содержать другие списки.\n",
        "\n",
        "    Результат:\n",
        "        - list: плоский список без вложенных списков.\"\"\"\n",
        "    result = []\n",
        "\n",
        "    for element in nested_list:\n",
        "        # Если элемент является списком, рекурсивно сплющиваем его\n",
        "        if isinstance(element, list):\n",
        "            result.extend(flatten_list_rec(element))\n",
        "        else:\n",
        "            # Если элемент не список, просто добавляем его\n",
        "            result.append(element)\n",
        "\n",
        "    return result\n",
        "\n",
        "\n",
        "my_list = [1, [2, 3], 4, [[5, 6], 7]]\n",
        "print(flatten_list_rec(my_list))  # [1, 2, 3, 4, 5, 6, 7]"
      ],
      "metadata": {
        "colab": {
          "base_uri": "https://localhost:8080/"
        },
        "id": "XPITefrJMW64",
        "outputId": "75c1e4e6-ac20-47d2-bb69-4fa8db880dad"
      },
      "execution_count": null,
      "outputs": [
        {
          "output_type": "stream",
          "name": "stdout",
          "text": [
            "[1, 2, 3, 4, 5, 6, 7]\n"
          ]
        }
      ]
    },
    {
      "cell_type": "code",
      "source": [
        "# Задание task_02_01_27.\n",
        "#\n",
        "# Выполнила: Губайдуллина А.И.\n",
        "# Группа: АБП-231\n",
        "\n",
        "def count_occurrences_rec(lst, item):\n",
        "    \"\"\"Подсчитать, сколько раз 'item' встречается в списке 'lst', рекурсивно.\n",
        "\n",
        "    Параметры:\n",
        "        - lst (list): список для поиска.\n",
        "        - item: элемент, который нужно найти.\n",
        "\n",
        "    Результат:\n",
        "        - int: количество вхождений элемента.\"\"\"\n",
        "    # Базовый случай: пустой список\n",
        "    if not lst:\n",
        "        return 0\n",
        "    # Рекурсивный случай: проверяем первый элемент + подсчет в остальной части списка\n",
        "    else:\n",
        "        count = 1 if lst[0] == item else 0\n",
        "        return count + count_occurrences_rec(lst[1:], item)\n",
        "\n",
        "\n",
        "my_list = [1, 2, 5, 3, 2, 4, 2, 5]\n",
        "print(count_occurrences_rec(my_list, 2))  # 3\n",
        "print(count_occurrences_rec(my_list, 5))  # 2\n",
        "print(count_occurrences_rec(my_list, 9))  # 0"
      ],
      "metadata": {
        "colab": {
          "base_uri": "https://localhost:8080/"
        },
        "id": "_jw_iEoRMs_b",
        "outputId": "6a9ea38b-3ddf-4de4-a1a0-c5c9c95c0e69"
      },
      "execution_count": null,
      "outputs": [
        {
          "output_type": "stream",
          "name": "stdout",
          "text": [
            "3\n",
            "2\n",
            "0\n"
          ]
        }
      ]
    },
    {
      "cell_type": "code",
      "source": [
        "# Задание task_02_01_28.\n",
        "#\n",
        "# Выполнила: Губайдуллина А.И.\n",
        "# Группа: АБП-231\n",
        "\n",
        "def digital_root_rec(n):\n",
        "    \"\"\"Найти цифровой корень числа 'n' рекурсивно.\n",
        "\n",
        "    Параметры:\n",
        "        - n (int): неотрицательное целое число.\n",
        "\n",
        "    Результат:\n",
        "        - int: цифровой корень числа 'n' (от 0 до 9).\"\"\"\n",
        "    # Базовый случай: если число однозначное (0-9)\n",
        "    if n < 10:\n",
        "        return n\n",
        "    # Рекурсивный случай: находим сумму цифр и повторяем для результата\n",
        "    else:\n",
        "        # Вычисляем сумму цифр текущего числа\n",
        "        digit_sum = 0\n",
        "        temp = n\n",
        "        while temp > 0:\n",
        "            digit_sum += temp % 10\n",
        "            temp //= 10\n",
        "        # Рекурсивно находим цифровой корень суммы\n",
        "        return digital_root_rec(digit_sum)\n",
        "\n",
        "\n",
        "print(digital_root_rec(65536))  # 7\n",
        "print(digital_root_rec(942))    # 6\n",
        "print(digital_root_rec(8))      # 8"
      ],
      "metadata": {
        "colab": {
          "base_uri": "https://localhost:8080/"
        },
        "id": "3ZMDqVkfNA_A",
        "outputId": "9e36eb8b-489b-471e-9c10-e60b6192d43a"
      },
      "execution_count": null,
      "outputs": [
        {
          "output_type": "stream",
          "name": "stdout",
          "text": [
            "7\n",
            "6\n",
            "8\n"
          ]
        }
      ]
    },
    {
      "cell_type": "code",
      "source": [
        "# Задание task_02_01_29.\n",
        "#\n",
        "# Выполнила: Губайдуллина А.И.\n",
        "# Группа: АБП-231\n",
        "\n",
        "def find_max_rec(numbers):\n",
        "    \"\"\"Найти максимальный элемент в списке 'numbers' рекурсивно.\n",
        "\n",
        "    Параметры:\n",
        "        - numbers (list): непустой список чисел.\n",
        "\n",
        "    Результат:\n",
        "        - int, float: максимальное значение в списке.\"\"\"\n",
        "    # Базовый случай: если в списке один элемент\n",
        "    if len(numbers) == 1:\n",
        "        return numbers[0]\n",
        "    # Рекурсивный случай: сравниваем первый элемент с максимумом остальной части\n",
        "    else:\n",
        "        max_of_rest = find_max_rec(numbers[1:])\n",
        "        return numbers[0] if numbers[0] > max_of_rest else max_of_rest\n",
        "\n",
        "\n",
        "my_list = [10, 45, 8, 92, 14, 55]\n",
        "print(find_max_rec(my_list))  # 92"
      ],
      "metadata": {
        "colab": {
          "base_uri": "https://localhost:8080/"
        },
        "id": "DCmJDItQNb6i",
        "outputId": "eec4ac28-19c7-4f9d-a9ad-c838e816a25b"
      },
      "execution_count": null,
      "outputs": [
        {
          "output_type": "stream",
          "name": "stdout",
          "text": [
            "92\n"
          ]
        }
      ]
    },
    {
      "cell_type": "code",
      "source": [
        "# Задание task_02_01_30.\n",
        "#\n",
        "# Выполнила: Губайдуллина А.И.\n",
        "# Группа: АБП-231\n",
        "\n",
        "def calculate_deposit_rec(principal, rate, years):\n",
        "    \"\"\"Рассчитать итоговую сумму вклада рекурсивно.\n",
        "\n",
        "    Параметры:\n",
        "        - principal (float): начальная сумма вклада.\n",
        "        - rate (float): годовая процентная ставка (например, 0.05 для 5%).\n",
        "        - years (int): количество лет.\n",
        "\n",
        "    Результат:\n",
        "        - float: итоговая сумма на счете.\"\"\"\n",
        "    # Базовый случай: если прошло 0 лет, возвращаем начальную сумму\n",
        "    if years == 0:\n",
        "        return principal\n",
        "    # Рекурсивный случай: рассчитываем сумму за предыдущий год и начисляем проценты\n",
        "    else:\n",
        "        # Сумма после (years-1) лет\n",
        "        amount_previous_year = calculate_deposit_rec(principal, rate, years - 1)\n",
        "        # Начисляем проценты за текущий год\n",
        "        return amount_previous_year * (1 + rate)\n",
        "\n",
        "\n",
        "# 1000 у.е. под 8% годовых на 5 лет\n",
        "final_amount = calculate_deposit_rec(1000, 0.08, 5)\n",
        "print(f\"{final_amount:.2f}\")  # 1469.33"
      ],
      "metadata": {
        "colab": {
          "base_uri": "https://localhost:8080/"
        },
        "id": "b1Dp-sj0Nwte",
        "outputId": "00a7feee-62cb-4421-e216-4e3b36578811"
      },
      "execution_count": null,
      "outputs": [
        {
          "output_type": "stream",
          "name": "stdout",
          "text": [
            "1469.33\n"
          ]
        }
      ]
    }
  ]
}